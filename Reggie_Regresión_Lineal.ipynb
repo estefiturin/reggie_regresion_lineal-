{
 "cells": [
  {
   "cell_type": "markdown",
   "metadata": {},
   "source": [
    "# Proyecto: Regresión Lineal\n",
    "\n",
    "Reggie es un científico loco que ha sido contratado por el restaurante de comida rápida local para construir su piscina de pelotas más nueva en el área de juegos. Como tal, está trabajando en la investigación del rebote de diferentes pelotas para optimizar el foso. Está realizando un experimento para hacer rebotar diferentes tamaños de pelotas que rebotan y luego ajusta líneas a los puntos de datos que registra. Ha oído hablar de la regresión lineal, pero necesita su ayuda para implementar una versión de la regresión lineal en Python.\n",
    "\n",
    "_Regresión lineal_ es cuando tienes un grupo de puntos en un gráfico y encuentras una línea que se asemeja aproximadamente a ese grupo de puntos. Un buen algoritmo de regresión lineal minimiza el _error_, o la distancia de cada punto a la línea. Una línea con el menor error es la línea que mejor se ajusta a los datos. Llamamos a esto una línea de _mejor ajuste_.\n",
    "\n",
    "Usaremos bucles, listas y aritmética para crear una función que encuentre una línea de mejor ajuste cuando se le dé un conjunto de datos.\n"
   ]
  },
  {
   "cell_type": "markdown",
   "metadata": {},
   "source": [
    "## Parte 1: Cálculo del error"
   ]
  },
  {
   "cell_type": "markdown",
   "metadata": {},
   "source": [
    "\n",
    "La línea con la que terminaremos tendrá una fórmula que se parece a:\n",
    "```\n",
    "y = m*x + b\n",
    "```\n",
    "`m` es la pendiente de la línea y `b` es la intersección, donde la línea cruza el eje y.\n",
    "\n",
    "Complete la función llamada `get_y()` que acepta `m`, `b` y `x`. ¡Debería devolver cuál sería el valor `y` para esa `x` en esa línea!\n"
   ]
  },
  {
   "cell_type": "code",
   "execution_count": 62,
   "metadata": {},
   "outputs": [
    {
     "name": "stdout",
     "output_type": "stream",
     "text": [
      "True\n",
      "True\n"
     ]
    }
   ],
   "source": [
    "def get_y(m, b, x):\n",
    "  y = m * x + b\n",
    "  return y \n",
    "\n",
    "print(get_y(1, 0, 7) == 7)\n",
    "print(get_y(5, 10, 3) == 25)\n"
   ]
  },
  {
   "cell_type": "markdown",
   "metadata": {},
   "source": [
    "\n",
    "Reggie quiere probar varios valores `m` y valores `b` diferentes y ver qué línea produce el menor error. Para calcular el error entre un punto y una línea, quiere una función llamada `calculate_error()`, que tomará `m`, `b` y un punto [x, y] llamado `point` y devolverá la distancia entre la línea y el punto.\n",
    "\n",
    "Para encontrar la distancia:\n",
    "1. Obtenga el valor x del punto y guárdelo en una variable llamada `x_point`\n",
    "2. Obtenga el valor y del punto y guárdelo en una variable llamada `y_point`\n",
    "3. Use `get_y()` para obtener el valor y que `x_point` estaría en la línea\n",
    "4. Encuentra la diferencia entre la y de `get_y` y `y_point`\n",
    "5. Devuelva el valor absoluto de la distancia (puede usar la función integrada `abs()` para hacer esto)\n",
    "\n",
    "La distancia representa el error entre la línea `y = m*x + b` y el `punto` dado."
   ]
  },
  {
   "cell_type": "code",
   "execution_count": 63,
   "metadata": {
    "collapsed": true
   },
   "outputs": [],
   "source": [
    "# Desarrolo la función calculate_error()\n",
    "def calculate_error(m,b,point):\n",
    "    x_point, y_point = point\n",
    "    # uso la funcion get_y()\n",
    "    y = m * x_point + b\n",
    "    distance = abs(y - y_point)\n",
    "    return distance \n",
    "\n"
   ]
  },
  {
   "cell_type": "markdown",
   "metadata": {},
   "source": [
    "¡Probemos esta función!"
   ]
  },
  {
   "cell_type": "code",
   "execution_count": 64,
   "metadata": {},
   "outputs": [
    {
     "name": "stdout",
     "output_type": "stream",
     "text": [
      "0\n",
      "1\n",
      "1\n",
      "5\n"
     ]
    }
   ],
   "source": [
    "#this is a line that looks like y = x, so (3, 3) should lie on it. thus, error should be 0:\n",
    "print(calculate_error(1, 0, (3, 3)))\n",
    "#the point (3, 4) should be 1 unit away from the line y = x:\n",
    "print(calculate_error(1, 0, (3, 4)))\n",
    "#the point (3, 3) should be 1 unit away from the line y = x - 1:\n",
    "print(calculate_error(1, -1, (3, 3)))\n",
    "#the point (3, 3) should be 5 units away from the line y = -x + 1:\n",
    "print(calculate_error(-1, 1, (3, 3)))"
   ]
  },
  {
   "cell_type": "markdown",
   "metadata": {
    "collapsed": true
   },
   "source": [
    "¡Estupendo! Los conjuntos de datos de Reggie serán conjuntos de puntos. Por ejemplo, realizó un experimento comparando el ancho de las pelotas que rebotan con la altura a la que rebotan:\n"
   ]
  },
  {
   "cell_type": "code",
   "execution_count": 65,
   "metadata": {
    "collapsed": true
   },
   "outputs": [],
   "source": [
    "datapoints = [(1, 2), (2, 0), (3, 4), (4, 4), (5, 3)]"
   ]
  },
  {
   "cell_type": "markdown",
   "metadata": {
    "collapsed": true
   },
   "source": [
    "El primer punto de datos, `(1, 2)`, significa que su pelota saltarina de 1 cm rebotó 2 metros. La pelota saltarina de 4 cm rebotó 4 metros.\n",
    "\n",
    "Mientras tratamos de ajustar una línea a estos datos, necesitaremos una función llamada `calculate_all_error`, que toma `m` y `b` que describen una línea, y `points`, un conjunto de datos como el ejemplo anterior.\n",
    "\n",
    "`calculate_all_error` debe iterar a través de cada `punto` en `puntos` y calcular el error desde ese punto hasta la línea (usando `calculate_error`). Debería mantener un total acumulado del error y luego devolver ese total después del bucle.\n"
   ]
  },
  {
   "cell_type": "code",
   "execution_count": 66,
   "metadata": {
    "collapsed": true
   },
   "outputs": [],
   "source": [
    "#Write your calculate_all_error function here\n",
    "def calculate_all_error(m,b,datapoints):\n",
    "    total_error = 0 \n",
    "    for point in datapoints: \n",
    "        point_error = calculate_error(m, b, point)\n",
    "        total_error += point_error\n",
    "    return total_error\n",
    "\n"
   ]
  },
  {
   "cell_type": "markdown",
   "metadata": {},
   "source": [
    "¡Probemos esta función!"
   ]
  },
  {
   "cell_type": "code",
   "execution_count": 67,
   "metadata": {},
   "outputs": [
    {
     "name": "stdout",
     "output_type": "stream",
     "text": [
      "0\n",
      "4\n",
      "4\n",
      "18\n"
     ]
    }
   ],
   "source": [
    "#every point in this dataset lies upon y=x, so the total error should be zero:\n",
    "datapoints = [(1, 1), (3, 3), (5, 5), (-1, -1)]\n",
    "print(calculate_all_error(1, 0, datapoints))\n",
    "\n",
    "#every point in this dataset is 1 unit away from y = x + 1, so the total error should be 4:\n",
    "datapoints = [(1, 1), (3, 3), (5, 5), (-1, -1)]\n",
    "print(calculate_all_error(1, 1, datapoints))\n",
    "\n",
    "#every point in this dataset is 1 unit away from y = x - 1, so the total error should be 4:\n",
    "datapoints = [(1, 1), (3, 3), (5, 5), (-1, -1)]\n",
    "print(calculate_all_error(1, -1, datapoints))\n",
    "\n",
    "\n",
    "#the points in this dataset are 1, 5, 9, and 3 units away from y = -x + 1, respectively, so total error should be\n",
    "# 1 + 5 + 9 + 3 = 18\n",
    "datapoints = [(1, 1), (3, 3), (5, 5), (-1, -1)]\n",
    "print(calculate_all_error(-1, 1, datapoints))"
   ]
  },
  {
   "cell_type": "markdown",
   "metadata": {},
   "source": [
    "¡Estupendo! Parece que ahora tenemos una función que puede tomar una línea y los datos de Reggie y devolver cuánto error produce esa línea cuando tratamos de ajustarla a los datos.\n",
    "\n",
    "¡Nuestro siguiente paso es encontrar la `m` y la `b` que minimicen este error y, por lo tanto, se ajusten mejor a los datos!\n"
   ]
  },
  {
   "cell_type": "markdown",
   "metadata": {},
   "source": [
    "## Parte 2: ¡Prueba un montón de pendientes e intersecciones!"
   ]
  },
  {
   "cell_type": "markdown",
   "metadata": {},
   "source": [
    "La forma en que Reggie quiere encontrar la línea que mejor se ajuste es mediante prueba y error. Quiere probar un montón de pendientes diferentes (valores `m`) y un montón de intersecciones diferentes (valores `b`) y ver cuál produce el valor de error más pequeño para su conjunto de datos.\n",
    "\n",
    "Usando una lista de comprensión, vamos a crear una lista de posibles valores `m` para probar. Haz la lista `possible_ms` que va de -10 a 10 inclusive, en incrementos de 0.1.\n",
    "\n",
    "Sugerencia (para ver esta sugerencia, haga doble clic en esta celda o resalte el siguiente espacio en blanco): <font color=\"white\">puede revisar los valores en el rango (-100, 100) y multiplicar cada uno por 0.1< /fuente>\n",
    "\n"
   ]
  },
  {
   "cell_type": "code",
   "execution_count": 68,
   "metadata": {
    "collapsed": true
   },
   "outputs": [],
   "source": [
    "possible_ms = [m * 0.1 for m in range(-100, 101)]"
   ]
  },
  {
   "cell_type": "markdown",
   "metadata": {},
   "source": [
    "Ahora, hagamos una lista de `possible_bs` para verificar que serían los valores de -20 a 20 inclusive, en pasos de 0.1:"
   ]
  },
  {
   "cell_type": "code",
   "execution_count": 69,
   "metadata": {
    "collapsed": true
   },
   "outputs": [],
   "source": [
    "possible_bs = [b * 0.1 for b in range(-200, 201)]"
   ]
  },
  {
   "cell_type": "markdown",
   "metadata": {},
   "source": [
    "Vamos a encontrar el error más pequeño. Primero, haremos cada posible línea `y = m*x + b` emparejando todas las `m`s posibles con todas las `b`s posibles. Luego, veremos qué línea `y = m*x + b` produce el menor error total con el conjunto de datos almacenados en `datapoint`.\n",
    "\n",
    "Primero, crea las variables que estaremos optimizando:\n",
    "* `pequeño_error` &mdash; esto debería comenzar en infinito (`float(\"inf\")`) para que cualquier error que obtengamos al principio sea menor que nuestro valor de `smallest_error`\n",
    "* `mejor_m` &mdash; podemos empezar esto en `0`\n",
    "* `mejor_b` &mdash; podemos empezar esto en `0`\n",
    "\n",
    "Queremos:\n",
    "* Iterar a través de cada elemento `m` en `possible_ms`\n",
    "* Por cada valor `m`, tome cada valor `b` en `possible_bs`\n",
    "* Si el valor devuelto de `calculate_all_error` en este valor `m`, este valor `b` y `puntos de datos` es menor que nuestro `smallest_error` actual,\n",
    "* Configure `best_m` y `best_b` para que sean estos valores, y configure `smallest_error` para este error.\n",
    "\n",
    "Al final de estos bucles anidados, `smallest_error` debería contener el error más pequeño que hayamos encontrado, y `best_m` y `best_b` deberían ser los valores que produjeron ese valor de error más pequeño.\n",
    "\n",
    "Imprime `best_m`, `best_b` y `smallest_error` después de los bucles.\n"
   ]
  },
  {
   "cell_type": "code",
   "execution_count": 70,
   "metadata": {},
   "outputs": [
    {
     "name": "stdout",
     "output_type": "stream",
     "text": [
      "0.30000000000000004 1.7000000000000002 4.999999999999999\n"
     ]
    }
   ],
   "source": [
    "datapoints = [(1, 2), (2, 0), (3, 4), (4, 4), (5, 3)]\n",
    "smallest_error = float(\"inf\")\n",
    "best_m = 0\n",
    "best_b = 0\n",
    "\n",
    "for m in possible_ms:\n",
    "    for b in possible_bs:\n",
    "   \t error = calculate_all_error(m, b, datapoints)\n",
    "   \t if error < smallest_error:\n",
    "   \t\t best_m = m\n",
    "   \t\t best_b = b\n",
    "   \t\t smallest_error = error\n",
    "       \t \n",
    "print(best_m, best_b, smallest_error)\n"
   ]
  },
  {
   "cell_type": "markdown",
   "metadata": {},
   "source": [
    "## Parte 3: ¿Qué predice nuestro modelo?\n",
    "\n",
    "Ahora hemos visto que para este conjunto de observaciones sobre las pelotas que rebotan, la recta que mejor se ajusta a los datos tiene una `m` de 0,3 y una `b` de 1,7:\n",
    "\n",
    "```\n",
    "y = 0.3x + 1.7\n",
    "```\n",
    "\n",
    "Esta línea produjo un error total de 5.\n",
    "\n",
    "Usando esta `m` y esta `b`, ¿cuál predice tu línea que será la altura de rebote de una pelota con un ancho de 6?\n",
    "En otras palabras, ¿cuál es la salida de `get_y()` cuando lo llamamos con:\n",
    "* metro = 0,3\n",
    "* b = 1,7\n",
    "* x = 6"
   ]
  },
  {
   "cell_type": "code",
   "execution_count": 71,
   "metadata": {},
   "outputs": [
    {
     "data": {
      "text/plain": [
       "3.5"
      ]
     },
     "execution_count": 71,
     "metadata": {},
     "output_type": "execute_result"
    }
   ],
   "source": [
    "get_y(0.3, 1.7, 6)"
   ]
  },
  {
   "cell_type": "markdown",
   "metadata": {},
   "source": [
    "Nuestro modelo predice que la pelota de 6 cm rebotará 3,5 m.\n",
    "\n",
    "¡Ahora, Reggie puede usar este modelo para predecir el rebote de todo tipo de tamaños de pelotas que puede elegir incluir en la piscina de pelotas!"
   ]
  },
  {
   "cell_type": "code",
   "execution_count": null,
   "metadata": {
    "collapsed": true
   },
   "outputs": [],
   "source": []
  }
 ],
 "metadata": {
  "kernelspec": {
   "display_name": "Python 3",
   "language": "python",
   "name": "python3"
  },
  "language_info": {
   "codemirror_mode": {
    "name": "ipython",
    "version": 3
   },
   "file_extension": ".py",
   "mimetype": "text/x-python",
   "name": "python",
   "nbconvert_exporter": "python",
   "pygments_lexer": "ipython3",
   "version": "3.9.7"
  }
 },
 "nbformat": 4,
 "nbformat_minor": 2
}
